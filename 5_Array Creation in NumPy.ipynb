{
 "cells": [
  {
   "cell_type": "markdown",
   "id": "89421b1c-d7c4-48b4-9f3f-3aafb305973c",
   "metadata": {},
   "source": [
    "# Array Creation in NumPy"
   ]
  },
  {
   "cell_type": "code",
   "execution_count": 1,
   "id": "2a5f9034-745e-4319-a20b-b9a784f3051e",
   "metadata": {},
   "outputs": [],
   "source": [
    "#Exp no.: 5"
   ]
  },
  {
   "cell_type": "code",
   "execution_count": 9,
   "id": "0838ef8a-b7a0-4d0b-88f7-78b69ad1ed6e",
   "metadata": {},
   "outputs": [],
   "source": [
    "#Aim : Creating Array using Numpy"
   ]
  },
  {
   "cell_type": "code",
   "execution_count": 3,
   "id": "bbb22336-2110-46fc-94c2-c57ec399663b",
   "metadata": {},
   "outputs": [],
   "source": [
    "#Name: Niraj Satyanarayan Doiphode\n",
    "#Roll No.:72\n",
    "#Sec: B\n",
    "#Subject:ET - 1"
   ]
  },
  {
   "cell_type": "code",
   "execution_count": 1,
   "id": "1f322d3c-9e00-4bbf-8d34-d2fe8672055e",
   "metadata": {},
   "outputs": [],
   "source": [
    "import numpy as np"
   ]
  },
  {
   "cell_type": "code",
   "execution_count": 2,
   "id": "5168e9b8-0fe3-4daf-a8e1-365c73477389",
   "metadata": {},
   "outputs": [
    {
     "name": "stdout",
     "output_type": "stream",
     "text": [
      "[1 2 3 4 5]\n"
     ]
    }
   ],
   "source": [
    "array_1d = np.array([1, 2, 3, 4, 5])\n",
    "print(array_1d)"
   ]
  },
  {
   "cell_type": "code",
   "execution_count": 3,
   "id": "6b4375e2-7a06-4e00-bd5b-71b281469d6a",
   "metadata": {},
   "outputs": [
    {
     "name": "stdout",
     "output_type": "stream",
     "text": [
      "[[1 2 3]\n",
      " [4 5 6]]\n"
     ]
    }
   ],
   "source": [
    "array_2d = np.array([[1, 2, 3], [4, 5, 6]])\n",
    "print(array_2d)"
   ]
  },
  {
   "cell_type": "code",
   "execution_count": 4,
   "id": "5082f2f6-a8f8-49cd-9c53-3dba3827888e",
   "metadata": {},
   "outputs": [
    {
     "name": "stdout",
     "output_type": "stream",
     "text": [
      "[[0. 0. 0.]\n",
      " [0. 0. 0.]\n",
      " [0. 0. 0.]]\n"
     ]
    }
   ],
   "source": [
    "zeros_array = np.zeros((3, 3))\n",
    "print(zeros_array)"
   ]
  },
  {
   "cell_type": "code",
   "execution_count": 5,
   "id": "2af71628-b5ee-4c6c-bec9-81148d1a8734",
   "metadata": {},
   "outputs": [
    {
     "name": "stdout",
     "output_type": "stream",
     "text": [
      "[[1. 1. 1. 1.]\n",
      " [1. 1. 1. 1.]]\n"
     ]
    }
   ],
   "source": [
    "ones_array = np.ones((2, 4))\n",
    "print(ones_array)"
   ]
  },
  {
   "cell_type": "code",
   "execution_count": 6,
   "id": "bd23f236-d970-40d5-baaa-c41f5f7c6e8b",
   "metadata": {},
   "outputs": [
    {
     "name": "stdout",
     "output_type": "stream",
     "text": [
      "[0 2 4 6 8]\n"
     ]
    }
   ],
   "source": [
    "range_array = np.arange(0, 10, 2)  # Start, stop, step\n",
    "print(range_array)"
   ]
  },
  {
   "cell_type": "code",
   "execution_count": 7,
   "id": "e3339cb2-c30d-4404-8141-3cea93602fba",
   "metadata": {},
   "outputs": [
    {
     "name": "stdout",
     "output_type": "stream",
     "text": [
      "[[0.65727971 0.32006271 0.26366274]\n",
      " [0.07218269 0.38383707 0.04568729]\n",
      " [0.04902635 0.0682816  0.58838082]]\n"
     ]
    }
   ],
   "source": [
    "random_array = np.random.rand(3, 3)\n",
    "print(random_array)"
   ]
  }
 ],
 "metadata": {
  "kernelspec": {
   "display_name": "Python 3 (ipykernel)",
   "language": "python",
   "name": "python3"
  },
  "language_info": {
   "codemirror_mode": {
    "name": "ipython",
    "version": 3
   },
   "file_extension": ".py",
   "mimetype": "text/x-python",
   "name": "python",
   "nbconvert_exporter": "python",
   "pygments_lexer": "ipython3",
   "version": "3.12.4"
  }
 },
 "nbformat": 4,
 "nbformat_minor": 5
}
